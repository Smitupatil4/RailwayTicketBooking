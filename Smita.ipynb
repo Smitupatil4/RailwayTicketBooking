{
  "nbformat": 4,
  "nbformat_minor": 0,
  "metadata": {
    "colab": {
      "provenance": [],
      "authorship_tag": "ABX9TyNX9hDevvyjlCCOBaObvCiE",
      "include_colab_link": true
    },
    "kernelspec": {
      "name": "python3",
      "display_name": "Python 3"
    },
    "language_info": {
      "name": "python"
    }
  },
  "cells": [
    {
      "cell_type": "markdown",
      "metadata": {
        "id": "view-in-github",
        "colab_type": "text"
      },
      "source": [
        "<a href=\"https://colab.research.google.com/github/Smitupatil4/RailwayTicketBooking/blob/main/Smita.ipynb\" target=\"_parent\"><img src=\"https://colab.research.google.com/assets/colab-badge.svg\" alt=\"Open In Colab\"/></a>"
      ]
    },
    {
      "cell_type": "code",
      "execution_count": null,
      "metadata": {
        "id": "SJen9MKARfm1"
      },
      "outputs": [],
      "source": [
        "import pandas as pd\n",
        "import random\n",
        "\n",
        "#Sample train data (replace with actual data)\n",
        "\n",
        "train_data={'Train':['Shatabdi Express','Rajdgani Express','Garib Rath','Duronto Express'],\n",
        "\n",
        "'Sleeper Seats': [100, 150, 200, 120],\n",
        "\n",
        "'AC Seats': [50, 75, 56, 40],\n",
        "\n",
        "'Sleeper Price':[500, 700, 300, 600],\n",
        "\n",
        "'AC Price':[1200, 1500, 800, 1000]\n",
        "}\n",
        "trains=pd.DataFrame(train_data)"
      ]
    },
    {
      "cell_type": "code",
      "source": [
        "#Function to check seat avaliability\n",
        "\n",
        "def check_availability(train, class_type, num_seats):\n",
        "\n",
        "  if train in trains['Train'].values:\n",
        "\n",
        "      index = trains[trains['Train']== train].index[0]\n",
        "\n",
        "      if class_type=='Sleeper':\n",
        "\n",
        "            if trains.loc[index,'Sleeper Seats']>=num_seats:\n",
        "\n",
        "                return True\n",
        "\n",
        "            else:\n",
        "              return False\n",
        "\n",
        "      elif class_type=='AC':\n",
        "          if trains.loc[index,'AC Seats']>=num_seats:\n",
        "                return True\n",
        "          else:\n",
        "                return False\n",
        "      else:\n",
        "              print(\"Invalid class type\")\n",
        "              return False\n",
        "  else:\n",
        "                print(\"Train not found\")\n",
        "                return False\n",
        "\n"
      ],
      "metadata": {
        "id": "OLurK5DuR77H"
      },
      "execution_count": null,
      "outputs": []
    },
    {
      "cell_type": "code",
      "source": [
        "#Function to book tickets\n",
        "\n",
        "def book_tickets (train, class_type, num_seats):\n",
        "\n",
        "  if check_availability(train, class_type, num_seats):\n",
        "\n",
        "      index=trains [trains ['Train'] == train].index[0]\n",
        "\n",
        "      if class_type == 'Sleeper':\n",
        "\n",
        "        trains. loc[index, 'Sleeper Seats'] -= num_seats\n",
        "\n",
        "        price=trains.loc [index, 'Sleeper Price']\n",
        "\n",
        "      elif class_type == 'AC':\n",
        "\n",
        "          trains.loc[index, 'AC Seats'] -= num_seats\n",
        "\n",
        "          price=trains.loc [index, 'AC Price']\n",
        "\n",
        "      pnr_number=''.join(random.choices('0123456789ABCDEFGHIJKLMNOPQRSTUVWXYZ', k=10)) # Generate a ram\n",
        "\n",
        "      print(\"Tickets booked successfully!\")\n",
        "\n",
        "      print(\"PNR Number:\", pnr_number)\n",
        "\n",
        "      print(\"Total fare:\", price*num_seats)\n",
        "\n",
        "  else:\n",
        "\n",
        "    print(\"Booking failed. Seats not available.\")\n",
        "\n"
      ],
      "metadata": {
        "id": "64Vh6Cc9Sp0t"
      },
      "execution_count": null,
      "outputs": []
    },
    {
      "cell_type": "code",
      "source": [
        "#Explain usage:\n",
        "book_tickets('Shatabdi Express','AC',2)\n",
        "book_tickets('Rajdhani Express','Sleeper',5)\n",
        "print(\"\\nupdated train availablity:\\n\",trains)"
      ],
      "metadata": {
        "colab": {
          "base_uri": "https://localhost:8080/"
        },
        "id": "7Iy9gdMtVInN",
        "outputId": "7d88a6c6-f32c-48bb-f200-bc926102a84a"
      },
      "execution_count": null,
      "outputs": [
        {
          "output_type": "stream",
          "name": "stdout",
          "text": [
            "Tickets booked successfully!\n",
            "PNR Number: PPZMT06AHQ\n",
            "Total fare: 2400\n",
            "Train not found\n",
            "Booking failed. Seats not available.\n",
            "\n",
            "updated train availablity:\n",
            "               Train  Sleeper Seats  AC Seats  Sleeper Price  AC Price\n",
            "0  Shatabdi Express            100        48            500      1200\n",
            "1  Rajdgani Express            150        75            700      1500\n",
            "2        Garib Rath            200        56            300       800\n",
            "3   Duronto Express            120        40            600      1000\n"
          ]
        }
      ]
    }
  ]
}